{
 "cells": [
  {
   "cell_type": "markdown",
   "metadata": {},
   "source": [
    "# ASSIGNMENT"
   ]
  },
  {
   "cell_type": "code",
   "execution_count": 2,
   "metadata": {},
   "outputs": [
    {
     "name": "stdout",
     "output_type": "stream",
     "text": [
      "True\n",
      "True\n",
      "False\n",
      "True\n"
     ]
    }
   ],
   "source": [
    "# Q1\n",
    "\n",
    "def is_symmetrical_num(n):\n",
    "  return str(n) == str(n)[::-1]\n",
    "print(is_symmetrical_num(121))\n",
    "print(is_symmetrical_num(0))\n",
    "print(is_symmetrical_num(122))\n",
    "print(is_symmetrical_num(990099))"
   ]
  },
  {
   "cell_type": "code",
   "execution_count": 89,
   "metadata": {},
   "outputs": [
    {
     "name": "stdout",
     "output_type": "stream",
     "text": [
      "6\n",
      "24\n",
      "0\n",
      "-20\n"
     ]
    }
   ],
   "source": [
    "# Q2\n",
    "\n",
    "def multiply_nums(string):\n",
    "    li = list(string.split(\", \"))\n",
    "    integer_map = map(int, li)\n",
    "    integer_list = list(integer_map)\n",
    "    result = 1\n",
    "    for x in integer_list:\n",
    "         result = result * x\n",
    "    return result\n",
    "\n",
    "\n",
    "\n",
    "print(multiply_nums(\"2, 3\"))\n",
    "print(multiply_nums(\"1, 2, 3, 4\"))\n",
    "print(multiply_nums(\"54, 75, 453, 0\"))\n",
    "print(multiply_nums(\"10, -2\"))\n",
    "\n"
   ]
  },
  {
   "cell_type": "code",
   "execution_count": 108,
   "metadata": {},
   "outputs": [
    {
     "name": "stdout",
     "output_type": "stream",
     "text": [
      "811181\n",
      "416649\n",
      "9414\n"
     ]
    }
   ],
   "source": [
    "# Q3\n",
    "\n",
    "def square_digits(num):\n",
    "    s = str()\n",
    "    for i in str(num):\n",
    "        y = int(i) * int(i)\n",
    "        s += str(y) \n",
    "    return s\n",
    "\n",
    "print(square_digits(9119))\n",
    "\n",
    "print(square_digits(2483))\n",
    "\n",
    "print(square_digits(3212))\n",
    "    "
   ]
  },
  {
   "cell_type": "code",
   "execution_count": 122,
   "metadata": {},
   "outputs": [
    {
     "name": "stdout",
     "output_type": "stream",
     "text": [
      "[1, 3, 5, 6]\n"
     ]
    }
   ],
   "source": [
    "# Q4\n",
    "\n",
    "test_list = [1, 3, 5, 6, 3, 5, 6, 1]\n",
    "res = []\n",
    "for i in test_list:\n",
    "    if i not in res:\n",
    "        res.append(i)\n",
    "  \n",
    "# printing list after removal \n",
    "print (str(res))"
   ]
  },
  {
   "cell_type": "code",
   "execution_count": 127,
   "metadata": {},
   "outputs": [
    {
     "name": "stdout",
     "output_type": "stream",
     "text": [
      "6.0\n",
      "3.0\n",
      "3.0\n"
     ]
    }
   ],
   "source": [
    "# Q5\n",
    "\n",
    "def mean(x):\n",
    "  if x == 0:\n",
    "    return 0\n",
    "  else:\n",
    "    digits = []\n",
    "    while x > 0:\n",
    "      digits.append(x % 10)\n",
    "      x = x // 10\n",
    "    return sum(digits) / len(digits)\n",
    "\n",
    "print(mean(666))\n",
    "print(mean(12345))\n",
    "print(mean(42))"
   ]
  },
  {
   "cell_type": "code",
   "execution_count": null,
   "metadata": {},
   "outputs": [],
   "source": []
  }
 ],
 "metadata": {
  "kernelspec": {
   "display_name": "Python 3",
   "language": "python",
   "name": "python3"
  },
  "language_info": {
   "codemirror_mode": {
    "name": "ipython",
    "version": 3
   },
   "file_extension": ".py",
   "mimetype": "text/x-python",
   "name": "python",
   "nbconvert_exporter": "python",
   "pygments_lexer": "ipython3",
   "version": "3.7.2"
  }
 },
 "nbformat": 4,
 "nbformat_minor": 4
}
